{
 "cells": [
  {
   "cell_type": "code",
   "execution_count": 10,
   "id": "13b62356",
   "metadata": {},
   "outputs": [],
   "source": [
    "import warnings\n",
    "warnings.filterwarnings(\"ignore\")\n",
    "from LLM_auto_label import get_response_from_prompt\n",
    "from langchain_community.tools import TavilySearchResults\n",
    "from langchain_anthropic import ChatAnthropic\n",
    "from langchain_google_genai import ChatGoogleGenerativeAI\n",
    "from langchain_openai import ChatOpenAI\n",
    "from uqlm import BlackBoxUQ\n",
    "from uqlm import UQEnsemble\n",
    "from uqlm import LLMPanel\n",
    "from uqlm.judges import LLMJudge\n",
    "import os\n",
    "from dotenv import load_dotenv\n",
    "load_dotenv()\n",
    "import pandas as pd\n",
    "import tqdm\n",
    "from collections import Counter\n",
    "load_dotenv()\n",
    "OPENAI_API_KEY = os.getenv(\"OPENAI_API_KEY\")\n",
    "os.environ[\"OPENAI_API_KEY\"] = OPENAI_API_KEY\n",
    "GOOGLE_API_KEY = os.getenv(\"GEMINI_API_KEY\")\n",
    "os.environ[\"GEMINI_API_KEY\"] = GOOGLE_API_KEY\n",
    "ANTHROPIC_API_KEY = os.getenv(\"ANTHROPIC_API_KEY\")\n",
    "os.environ[\"ANTHROPIC_API_KEY\"] = ANTHROPIC_API_KEY\n",
    "TOGETHER_API_KEY = os.getenv(\"TOGETHER_API_KEY\")\n",
    "os.environ[\"TOGETHER_API_KEY\"] = TOGETHER_API_KEY\n",
    "TAVILY_API_KEY = os.getenv(\"TAVILY_API_KEY\")"
   ]
  },
  {
   "cell_type": "code",
   "execution_count": 11,
   "id": "bc0672bc",
   "metadata": {},
   "outputs": [
    {
     "data": {
      "text/plain": [
       "['Albert Einstein.csv',\n",
       " 'Bill Gates.csv',\n",
       " 'Bruno Mars.csv',\n",
       " 'Elon Musk.csv',\n",
       " 'Hoài Linh.csv',\n",
       " 'Nam Cao.csv',\n",
       " 'Nguyễn Du.csv',\n",
       " 'Ngô Bảo Châu.csv',\n",
       " 'Phạm Nhật Vượng.csv',\n",
       " 'Steve Jobs.csv',\n",
       " 'Sơn Tùng M-TP.csv',\n",
       " 'Taylor Swift.csv']"
      ]
     },
     "execution_count": 11,
     "metadata": {},
     "output_type": "execute_result"
    }
   ],
   "source": [
    "dataset_src = \"New Dataset/\"\n",
    "csv_files = [f for f in os.listdir(dataset_src) if f.endswith('.csv')]\n",
    "csv_files"
   ]
  },
  {
   "cell_type": "code",
   "execution_count": 12,
   "id": "7cc15cb1",
   "metadata": {},
   "outputs": [
    {
     "data": {
      "text/html": [
       "<div>\n",
       "<style scoped>\n",
       "    .dataframe tbody tr th:only-of-type {\n",
       "        vertical-align: middle;\n",
       "    }\n",
       "\n",
       "    .dataframe tbody tr th {\n",
       "        vertical-align: top;\n",
       "    }\n",
       "\n",
       "    .dataframe thead th {\n",
       "        text-align: right;\n",
       "    }\n",
       "</style>\n",
       "<table border=\"1\" class=\"dataframe\">\n",
       "  <thead>\n",
       "    <tr style=\"text-align: right;\">\n",
       "      <th></th>\n",
       "      <th>atomic_facts</th>\n",
       "      <th>label</th>\n",
       "      <th>search_results</th>\n",
       "      <th>prompt</th>\n",
       "      <th>entity</th>\n",
       "      <th>example_response</th>\n",
       "    </tr>\n",
       "  </thead>\n",
       "  <tbody>\n",
       "    <tr>\n",
       "      <th>0</th>\n",
       "      <td>Einstein là một nhà vật lý lý thuyết nổi tiếng...</td>\n",
       "      <td>Supported</td>\n",
       "      <td>[{'title': 'Albert Einstein – Wikipedia tiếng ...</td>\n",
       "      <td>\\nBạn được cung cấp một ngữ cảnh (kết quả tìm ...</td>\n",
       "      <td>Albert Einstein</td>\n",
       "      <td>NaN</td>\n",
       "    </tr>\n",
       "    <tr>\n",
       "      <th>1</th>\n",
       "      <td>Einstein được biết đến rộng rãi với những đóng...</td>\n",
       "      <td>Supported</td>\n",
       "      <td>[{'title': 'Albert Einstein: Từ cậu bé chậm nó...</td>\n",
       "      <td>\\nBạn được cung cấp một ngữ cảnh (kết quả tìm ...</td>\n",
       "      <td>Albert Einstein</td>\n",
       "      <td>NaN</td>\n",
       "    </tr>\n",
       "    <tr>\n",
       "      <th>2</th>\n",
       "      <td>Einstein đặc biệt nổi tiếng với thuyết tương đối.</td>\n",
       "      <td>Supported</td>\n",
       "      <td>[{'title': 'Thuyết tương đối – Wikipedia tiếng...</td>\n",
       "      <td>\\nBạn được cung cấp một ngữ cảnh (kết quả tìm ...</td>\n",
       "      <td>Albert Einstein</td>\n",
       "      <td>NaN</td>\n",
       "    </tr>\n",
       "    <tr>\n",
       "      <th>3</th>\n",
       "      <td>Einstein sinh ngày 14 tháng 3 năm 1879 tại Ulm.</td>\n",
       "      <td>Supported</td>\n",
       "      <td>[{'title': 'Albert Einstein – Wikipedia tiếng ...</td>\n",
       "      <td>\\nBạn được cung cấp một ngữ cảnh (kết quả tìm ...</td>\n",
       "      <td>Albert Einstein</td>\n",
       "      <td>NaN</td>\n",
       "    </tr>\n",
       "    <tr>\n",
       "      <th>4</th>\n",
       "      <td>Ulm thuộc Vương quốc Württemberg.</td>\n",
       "      <td>Supported</td>\n",
       "      <td>[{'title': 'Albert Einstein sinh ngày 14 tháng...</td>\n",
       "      <td>\\nBạn được cung cấp một ngữ cảnh (kết quả tìm ...</td>\n",
       "      <td>Albert Einstein</td>\n",
       "      <td>NaN</td>\n",
       "    </tr>\n",
       "  </tbody>\n",
       "</table>\n",
       "</div>"
      ],
      "text/plain": [
       "                                        atomic_facts      label  \\\n",
       "0  Einstein là một nhà vật lý lý thuyết nổi tiếng...  Supported   \n",
       "1  Einstein được biết đến rộng rãi với những đóng...  Supported   \n",
       "2  Einstein đặc biệt nổi tiếng với thuyết tương đối.  Supported   \n",
       "3    Einstein sinh ngày 14 tháng 3 năm 1879 tại Ulm.  Supported   \n",
       "4                  Ulm thuộc Vương quốc Württemberg.  Supported   \n",
       "\n",
       "                                      search_results  \\\n",
       "0  [{'title': 'Albert Einstein – Wikipedia tiếng ...   \n",
       "1  [{'title': 'Albert Einstein: Từ cậu bé chậm nó...   \n",
       "2  [{'title': 'Thuyết tương đối – Wikipedia tiếng...   \n",
       "3  [{'title': 'Albert Einstein – Wikipedia tiếng ...   \n",
       "4  [{'title': 'Albert Einstein sinh ngày 14 tháng...   \n",
       "\n",
       "                                              prompt           entity  \\\n",
       "0  \\nBạn được cung cấp một ngữ cảnh (kết quả tìm ...  Albert Einstein   \n",
       "1  \\nBạn được cung cấp một ngữ cảnh (kết quả tìm ...  Albert Einstein   \n",
       "2  \\nBạn được cung cấp một ngữ cảnh (kết quả tìm ...  Albert Einstein   \n",
       "3  \\nBạn được cung cấp một ngữ cảnh (kết quả tìm ...  Albert Einstein   \n",
       "4  \\nBạn được cung cấp một ngữ cảnh (kết quả tìm ...  Albert Einstein   \n",
       "\n",
       "  example_response  \n",
       "0              NaN  \n",
       "1              NaN  \n",
       "2              NaN  \n",
       "3              NaN  \n",
       "4              NaN  "
      ]
     },
     "execution_count": 12,
     "metadata": {},
     "output_type": "execute_result"
    }
   ],
   "source": [
    "df_list = []\n",
    "for csv in csv_files:\n",
    "\tentity_name = csv.split('.')[0]\n",
    "\tdf = pd.read_csv(f\"{dataset_src}{csv}\")\n",
    "\tdf['entity'] = entity_name\n",
    "\tdf_list.append(df)\n",
    "\n",
    "df = pd.concat(df_list, ignore_index=True)\n",
    "df.head()"
   ]
  },
  {
   "cell_type": "code",
   "execution_count": 13,
   "id": "92824a4b",
   "metadata": {},
   "outputs": [
    {
     "data": {
      "text/html": [
       "<div>\n",
       "<style scoped>\n",
       "    .dataframe tbody tr th:only-of-type {\n",
       "        vertical-align: middle;\n",
       "    }\n",
       "\n",
       "    .dataframe tbody tr th {\n",
       "        vertical-align: top;\n",
       "    }\n",
       "\n",
       "    .dataframe thead th {\n",
       "        text-align: right;\n",
       "    }\n",
       "</style>\n",
       "<table border=\"1\" class=\"dataframe\">\n",
       "  <thead>\n",
       "    <tr style=\"text-align: right;\">\n",
       "      <th></th>\n",
       "      <th>atomic_facts</th>\n",
       "      <th>label</th>\n",
       "      <th>search_results</th>\n",
       "      <th>prompt</th>\n",
       "      <th>entity</th>\n",
       "      <th>example_response</th>\n",
       "    </tr>\n",
       "  </thead>\n",
       "  <tbody>\n",
       "    <tr>\n",
       "      <th>0</th>\n",
       "      <td>Einstein là một nhà vật lý lý thuyết nổi tiếng...</td>\n",
       "      <td>Supported</td>\n",
       "      <td>[{'title': 'Albert Einstein – Wikipedia tiếng ...</td>\n",
       "      <td>\\nBạn được cung cấp một ngữ cảnh (kết quả tìm ...</td>\n",
       "      <td>Albert Einstein</td>\n",
       "      <td>NaN</td>\n",
       "    </tr>\n",
       "    <tr>\n",
       "      <th>1</th>\n",
       "      <td>Einstein được biết đến rộng rãi với những đóng...</td>\n",
       "      <td>Supported</td>\n",
       "      <td>[{'title': 'Albert Einstein: Từ cậu bé chậm nó...</td>\n",
       "      <td>\\nBạn được cung cấp một ngữ cảnh (kết quả tìm ...</td>\n",
       "      <td>Albert Einstein</td>\n",
       "      <td>NaN</td>\n",
       "    </tr>\n",
       "  </tbody>\n",
       "</table>\n",
       "</div>"
      ],
      "text/plain": [
       "                                        atomic_facts      label  \\\n",
       "0  Einstein là một nhà vật lý lý thuyết nổi tiếng...  Supported   \n",
       "1  Einstein được biết đến rộng rãi với những đóng...  Supported   \n",
       "\n",
       "                                      search_results  \\\n",
       "0  [{'title': 'Albert Einstein – Wikipedia tiếng ...   \n",
       "1  [{'title': 'Albert Einstein: Từ cậu bé chậm nó...   \n",
       "\n",
       "                                              prompt           entity  \\\n",
       "0  \\nBạn được cung cấp một ngữ cảnh (kết quả tìm ...  Albert Einstein   \n",
       "1  \\nBạn được cung cấp một ngữ cảnh (kết quả tìm ...  Albert Einstein   \n",
       "\n",
       "  example_response  \n",
       "0              NaN  \n",
       "1              NaN  "
      ]
     },
     "execution_count": 13,
     "metadata": {},
     "output_type": "execute_result"
    }
   ],
   "source": [
    "df = df[:2]\n",
    "df.head()"
   ]
  },
  {
   "cell_type": "code",
   "execution_count": 14,
   "id": "5625f9f8",
   "metadata": {},
   "outputs": [
    {
     "data": {
      "text/plain": [
       "['Einstein là một nhà vật lý lý thuyết nổi tiếng người Đức.',\n",
       " 'Einstein được biết đến rộng rãi với những đóng góp đột phá trong lĩnh vực vật lý.']"
      ]
     },
     "execution_count": 14,
     "metadata": {},
     "output_type": "execute_result"
    }
   ],
   "source": [
    "atomic_facts = df['atomic_facts'].tolist()\n",
    "atomic_facts"
   ]
  },
  {
   "cell_type": "code",
   "execution_count": 15,
   "id": "fd5ebcc9",
   "metadata": {},
   "outputs": [
    {
     "data": {
      "text/plain": [
       "['Supported', 'Supported']"
      ]
     },
     "execution_count": 15,
     "metadata": {},
     "output_type": "execute_result"
    }
   ],
   "source": [
    "labels = df['label'].tolist()\n",
    "labels"
   ]
  },
  {
   "cell_type": "code",
   "execution_count": 16,
   "id": "efffa087",
   "metadata": {},
   "outputs": [
    {
     "data": {
      "text/plain": [
       "[\"\\nBạn được cung cấp một ngữ cảnh (kết quả tìm kiếm web) kèm theo một atomic fact. Nhiệm vụ của bạn là gán nhãn cho atomic fact này là Supported, Unsupported, hoặc Irrelevant. Ngữ cảnh nói về một người hoặc một nhân vật và atomic fact là một thông tin về người đó.\\n\\nSupported: Chọn nhãn này nếu atomic fact là đúng và được ngữ cảnh hoàn toàn xác thực.\\nUnsupported: Chọn nhãn này nếu atomic fact là sai và mâu thuẫn với ngữ cảnh.\\nIrrelevant: Chọn nhãn này nếu atomic fact không liên quan đến người hoặc nhân vật, hoặc atomic fact nói về một điều khác không có liên hệ với người đó.\\n\\nLƯU Ý: thông tin tìm kiếm được trên trang web có thể chứa tin giả và tin sai sự thật. Hãy cân nhắc kĩ lưỡng trước khi ra quyết định của mình.\\nĐây là phần bạn cần làm:\\nNhân vật: Albert Einstein\\nNgữ cảnh từ kết quả tìm kiếm web: [{'title': 'Albert Einstein – Wikipedia tiếng Việt', 'url': 'https://vi.wikipedia.org/wiki/Albert_Einstein', 'content': 'Albert Einstein (14 tháng 3 năm 1879 – 18 tháng 4 năm 1955) là một nhà vật lý lý thuyết người Đức gốc Do Thái, được công nhận là một trong những nhà vật lý vĩ', 'score': 0.903098}, {'title': 'Einstein - cuộc đời và sự nghiệp - KhoaHoc.tv', 'url': 'https://khoahoc.tv/einstein-cuoc-doi-va-su-nghiep-4', 'content': 'Albert Einstein sinh ngày 14-3-1879 tại Ulm, miền Wurtemberg, nước Đức. Cái tỉnh nhỏ bé này không mang lại cho Albert một kỷ niệm nào cả vì năm sau, gia đình Einstein đã di chuyển tới Munich. Sống tại nơi đây được một năm, một người em gái của Einstein ra chào đời và từ đó không có thêm tiếng trẻ thơ nữa. Chủ gia đình, ông Hermann Einstein là người lạc quan, tính tình vui vẻ. Còn bà mẹ, bà Pauline Koch, đã tỏ ra có óc thẩm mỹ ngoài bản tính cần cù, tế nhị. Bà hay khôi hài và yêu thích âm nhạc. [...] Vào năm 1913, một hội nghị các nhà bác học Đức được tổ chức tại Vienna. Người ta mời Einstein tới trình bày lý thuyết về Trọng Lực của ông. Trong buổi thuyết trình này, ai cũng phải sửng sốt về các ý tưởng mới mẻ, quá kỳ dị của Einstein. Mọi người trông chờ ở ông một lý thuyết tổng quát, tân kỳ. [...] Tới cuối năm 1912, Albert Einstein trở thành Giáo Sư Thực Thụ của trường Bách Khoa Zurich và mang lại danh tiếng cho đại học này. Einstein làm việc không ngừng. Các lý thuyết mới về Toán của các nhà toán học Ý Đại Lợi Ricci và Levi-Civita đã làm cho Einstein chú ý đến. Ông cùng với Marcel Grossmann, một người bạn cũ, khảo cứu các phương pháp toán học mới ngõ hầu có thể dùng cho lý thuyết về Trọng Lực.', 'score': 0.6737291}, {'title': 'Albert Einstein và 7 phát minh vĩ đại làm thay đổi thế giới - Dân trí', 'url': 'https://dantri.com.vn/khoa-hoc/albert-einstein-va-7-phat-minh-vi-dai-lam-thay-doi-the-gioi-20211007043421747.htm', 'content': 'Năm 1921, Albert Einstein nhận giải Nobel Vật lý . Do thuyết tương đối hẹp vẫn còn đang là một chủ đề gây tranh cãi, nên hội đồng giải Nobel đã', 'score': 0.50564}]\\n\\natomic fact: Einstein là một nhà vật lý lý thuyết nổi tiếng người Đức.\\n\\nTrả lời theo định dạng sau:\\nLabel: <Nhãn của bạn>\\nReason: <Lý do cho nhãn này>\\n\",\n",
       " \"\\nBạn được cung cấp một ngữ cảnh (kết quả tìm kiếm web) kèm theo một atomic fact. Nhiệm vụ của bạn là gán nhãn cho atomic fact này là Supported, Unsupported, hoặc Irrelevant. Ngữ cảnh nói về một người hoặc một nhân vật và atomic fact là một thông tin về người đó.\\n\\nSupported: Chọn nhãn này nếu atomic fact là đúng và được ngữ cảnh hoàn toàn xác thực.\\nUnsupported: Chọn nhãn này nếu atomic fact là sai và mâu thuẫn với ngữ cảnh.\\nIrrelevant: Chọn nhãn này nếu atomic fact không liên quan đến người hoặc nhân vật, hoặc atomic fact nói về một điều khác không có liên hệ với người đó.\\n\\nLƯU Ý: thông tin tìm kiếm được trên trang web có thể chứa tin giả và tin sai sự thật. Hãy cân nhắc kĩ lưỡng trước khi ra quyết định của mình.\\nĐây là phần bạn cần làm:\\nNhân vật: Albert Einstein\\nNgữ cảnh từ kết quả tìm kiếm web: [{'title': 'Albert Einstein: Từ cậu bé chậm nói trở thành thiên tài vật lý - Dân trí', 'url': 'https://dantri.com.vn/giao-duc/albert-einstein-tu-cau-be-cham-noi-tro-thanh-thien-tai-vat-ly-20230302181024219.htm', 'content': 'Albert Einstein, sinh năm 1879, mất năm 1955, được coi là một trong những nhà vật lý vĩ đại nhất và có ảnh hưởng nhất mọi thời đại. Einstein nổi tiếng với việc phát triển thuyết tương đối tổng quát. Ngoài ra, ông cũng có những đóng góp quan trọng cho việc phát triển lý thuyết cơ học lượng tử.\\\\n\\\\nThuyết tương đối và cơ học lượng tử là hai trụ cột của vật lý hiện đại. Công thức E = mc2 của Einstein, phát sinh từ thuyết tương đối, được mệnh danh là phương trình nổi tiếng nhất thế giới. [...] Trong năm 1905, Albert Einstein viết bốn bài báo mang tính đột phá về hiệu ứng quang điện, chuyển động Brown, thuyết tương đối đặc biệt và sự tương đương giữa khối lượng và năng lượng. Các bài báo đã khiến Albert Einstein trở nên nổi tiếng trong giới hàn lâm. Ông được trao bằng tiến sĩ khi mới 27 tuổi. [...] Image 7: Albert Einstein: Từ cậu bé chậm nói trở thành thiên tài vật lý - 1\\\\n\\\\nNhà vật lý vĩ đại Albert Einstein (Ảnh: Getty Images).\\\\n\\\\nAlbert Einstein nhận giải Nobel vật lý năm 1921 vì những đóng góp của ông cho vật lý lý thuyết và đặc biệt là vì khám phá ra định luật hiệu ứng quang điện, một bước quan trọng trong sự phát triển của thuyết lượng tử.', 'score': 0.8018276}, {'title': 'Albert Einstein và 7 phát minh vĩ đại làm thay đổi thế giới - Dân trí', 'url': 'https://dantri.com.vn/khoa-hoc/albert-einstein-va-7-phat-minh-vi-dai-lam-thay-doi-the-gioi-20211007043421747.htm', 'content': 'Năm 1921, Albert Einstein nhận giải Nobel Vật lý . Do thuyết tương đối hẹp vẫn còn đang là một chủ đề gây tranh cãi, nên hội đồng giải Nobel đã trao giải cho ông vì những giải thích về hiện tượng điện quang và các đóng góp cho vật lý.\\\\n\\\\nMãi đến sau này, người ta mới biết rằng thuyết tương đối của ông có tác động lớn thế nào. Nhờ Einstein, nhận thức về vũ trụ đã thay đổi hoàn toàn, và thậm chí nó đã giúp hình thành nên một thế giới mà chúng ta đang sống ngày nay.', 'score': 0.71137124}, {'title': 'THIÊN TÀI ALBERT EINSTEIN ĐÃ HỌC TOÁN VÀ VẬT LÝ NHƯ ...', 'url': 'https://huynhthuckhangluongvancan.wordpress.com/2024/05/06/thien-tai-albert-einstein-da-hoc-toan-va-vat-ly-nhu-the-nao/', 'content': 'Einstein chưa bao giờ là một người theo chủ nghĩa tuân thủ. Mặc dù tính cách nổi loạn của Einstein có thể đã ảnh hưởng đến sự nghiệp học tập trước đó của anh ấy khi anh ấy đang cật lực tìm việc làm trong lĩnh vực vật lý, nhưng đó cũng có thể là điều đã giúp Einstein có những khám phá vĩ đại nhất và làm nổi bật danh tiếng sau này của ông ta. [...] Với những đóng góp vô cùng giá trị của Einstein cho vật lý học, tôi nghĩ bây giờ rất đáng để hỏi làm thế nào ông ấy học được nó. Đọc cuốn tiểu sử của Einstein, tôi cẩn thận ghi chép bất cứ khi nào phương pháp học tập và khám phá của ông được đề cập. Sau đó, tôi đã cố gắng tổng hợp những quan sát này thành một số phương pháp hoặc hành vi dường như đã tạo điều kiện cho cả những khám phá mang tính cách mạng của Einstein lẫn sự hiểu biết sâu sắc của ông về chủ đề này. [...] Khả năng tập trung tuyệt vời của Einstein, kết hợp với sự tôn trọng sự cô độc, đã cho phép ông thực hiện một số công việc tốt nhất của mình trong lĩnh vực vật lý. Ngay cả khi đã già, ông vẫn dành nhiều giờ trên thuyền, nhàn rỗi đẩy bánh lái dường như đang chìm trong suy nghĩ, bị gián đoạn bởi hàng loạt phương trình viết nguệch ngoạc trong sổ tay.\\\\n\\\\n5. Hiểu ý tưởng thông qua thí nghiệm tưởng tượng.\\\\n\\\\nPhương pháp nổi tiếng nhất của Einstein để học và khám phá vật lý phải là thí nghiệm tưởng tượng.', 'score': 0.6894943}]\\n\\natomic fact: Einstein được biết đến rộng rãi với những đóng góp đột phá trong lĩnh vực vật lý.\\n\\nTrả lời theo định dạng sau:\\nLabel: <Nhãn của bạn>\\nReason: <Lý do cho nhãn này>\\n\"]"
      ]
     },
     "execution_count": 16,
     "metadata": {},
     "output_type": "execute_result"
    }
   ],
   "source": [
    "prompts = df['prompt'].to_list()\n",
    "prompts"
   ]
  },
  {
   "cell_type": "code",
   "execution_count": 17,
   "id": "02794029",
   "metadata": {},
   "outputs": [],
   "source": [
    "class LLMFactory:\n",
    "    def __init__(self, model_name, api_key=None, together=False):\n",
    "        self.model_name = model_name\n",
    "        self.api_key = api_key\n",
    "        self.together = together\n",
    "        self.llm = self._initialize_llm()\n",
    "\n",
    "    def _initialize_llm(self):\n",
    "        if self.together:\n",
    "            base_url = \"https://api.together.xyz/v1\"\n",
    "            api_key = self.api_key or TOGETHER_API_KEY\n",
    "            if not api_key:\n",
    "                raise ValueError(\"Together.ai API key not found.\")\n",
    "            return ChatOpenAI(api_key=api_key, base_url=base_url, model=self.model_name)\n",
    "\n",
    "        if \"gpt\" in self.model_name:\n",
    "            if not self.api_key:\n",
    "                self.api_key = os.getenv(\"OPENAI_API_KEY\")\n",
    "            if not self.api_key:\n",
    "                raise ValueError(\"OpenAI API key not found.\")\n",
    "            return ChatOpenAI(api_key=self.api_key, model=self.model_name)\n",
    "        \n",
    "        elif \"gemini\" in self.model_name:\n",
    "            if not self.api_key:\n",
    "                self.api_key = os.getenv(\"GEMINI_API_KEY\")\n",
    "            if not self.api_key:\n",
    "                raise ValueError(\"Google API key not found.\")\n",
    "            return ChatGoogleGenerativeAI(google_api_key=self.api_key, model=self.model_name)\n",
    "        \n",
    "        elif \"claude\" in self.model_name:\n",
    "            if not self.api_key:\n",
    "                self.api_key = os.getenv(\"ANTHROPIC_API_KEY\")\n",
    "            if not self.api_key:\n",
    "                raise ValueError(\"Anthropic API key not found.\")\n",
    "            return ChatAnthropic(anthropic_api_key=self.api_key, model_name=self.model_name)\n",
    "\n",
    "        elif \"Qwen\" in self.model_name:\n",
    "            base_url = \"https://api.together.xyz/v1\"\n",
    "            api_key = self.api_key or TOGETHER_API_KEY\n",
    "            if not api_key:\n",
    "                raise ValueError(\"Together.ai API key not found for Qwen model.\")\n",
    "            return ChatOpenAI(api_key=api_key, base_url=base_url, model=self.model_name)\n",
    "        elif \"Llama\" in self.model_name:\n",
    "            base_url = \"https://api.together.xyz/v1\"\n",
    "            api_key = self.api_key or TOGETHER_API_KEY\n",
    "            if not api_key:\n",
    "                raise ValueError(\"Together.ai API key not found for Llama model.\")\n",
    "            return ChatOpenAI(api_key=api_key, base_url=base_url, model=self.model_name)\n",
    "        elif \"deepseek\" in self.model_name:\n",
    "            base_url = \"https://api.together.xyz/v1\"\n",
    "            api_key = self.api_key or TOGETHER_API_KEY\n",
    "            if not api_key:\n",
    "                raise ValueError(\"Together.ai API key not found for DeepSeek model.\")\n",
    "            return ChatOpenAI(api_key=api_key, base_url=base_url, model=self.model_name)\n",
    "        else:\n",
    "            raise ValueError(f\"Unsupported LLM model: {self.model_name}\")\n",
    "\n",
    "    def get_llm(self):\n",
    "        return self.llm"
   ]
  },
  {
   "cell_type": "code",
   "execution_count": 18,
   "id": "453d2c34",
   "metadata": {},
   "outputs": [
    {
     "name": "stdout",
     "output_type": "stream",
     "text": [
      "Processing atomic fact: Einstein là một nhà vật lý lý thuyết nổi tiếng người Đức.\n",
      "Label: Supported\n",
      "{'full_response': 'Label: Supported\\nReason: The provided context clearly states that Albert Einstein was a famous theoretical physicist from Germany, which supports the given atomic fact.', 'label': 'Supported', 'prompt': \"\\nBạn được cung cấp một ngữ cảnh (kết quả tìm kiếm web) kèm theo một atomic fact. Nhiệm vụ của bạn là gán nhãn cho atomic fact này là Supported, Unsupported, hoặc Irrelevant. Ngữ cảnh nói về một người hoặc một nhân vật và atomic fact là một thông tin về người đó.\\n\\nSupported: Chọn nhãn này nếu atomic fact là đúng và được ngữ cảnh hoàn toàn xác thực.\\nUnsupported: Chọn nhãn này nếu atomic fact là sai và mâu thuẫn với ngữ cảnh.\\nIrrelevant: Chọn nhãn này nếu atomic fact không liên quan đến người hoặc nhân vật, hoặc atomic fact nói về một điều khác không có liên hệ với người đó.\\n\\nLƯU Ý: thông tin tìm kiếm được trên trang web có thể chứa tin giả và tin sai sự thật. Hãy cân nhắc kĩ lưỡng trước khi ra quyết định của mình.\\nĐây là phần bạn cần làm:\\nNhân vật: Albert Einstein\\nNgữ cảnh từ kết quả tìm kiếm web: [{'title': 'Albert Einstein – Wikipedia tiếng Việt', 'url': 'https://vi.wikipedia.org/wiki/Albert_Einstein', 'content': 'Albert Einstein (14 tháng 3 năm 1879 – 18 tháng 4 năm 1955) là một nhà vật lý lý thuyết người Đức gốc Do Thái, được công nhận là một trong những nhà vật lý vĩ', 'score': 0.903098}, {'title': 'Einstein - cuộc đời và sự nghiệp - KhoaHoc.tv', 'url': 'https://khoahoc.tv/einstein-cuoc-doi-va-su-nghiep-4', 'content': 'Albert Einstein sinh ngày 14-3-1879 tại Ulm, miền Wurtemberg, nước Đức. Cái tỉnh nhỏ bé này không mang lại cho Albert một kỷ niệm nào cả vì năm sau, gia đình Einstein đã di chuyển tới Munich. Sống tại nơi đây được một năm, một người em gái của Einstein ra chào đời và từ đó không có thêm tiếng trẻ thơ nữa. Chủ gia đình, ông Hermann Einstein là người lạc quan, tính tình vui vẻ. Còn bà mẹ, bà Pauline Koch, đã tỏ ra có óc thẩm mỹ ngoài bản tính cần cù, tế nhị. Bà hay khôi hài và yêu thích âm nhạc. [...] Vào năm 1913, một hội nghị các nhà bác học Đức được tổ chức tại Vienna. Người ta mời Einstein tới trình bày lý thuyết về Trọng Lực của ông. Trong buổi thuyết trình này, ai cũng phải sửng sốt về các ý tưởng mới mẻ, quá kỳ dị của Einstein. Mọi người trông chờ ở ông một lý thuyết tổng quát, tân kỳ. [...] Tới cuối năm 1912, Albert Einstein trở thành Giáo Sư Thực Thụ của trường Bách Khoa Zurich và mang lại danh tiếng cho đại học này. Einstein làm việc không ngừng. Các lý thuyết mới về Toán của các nhà toán học Ý Đại Lợi Ricci và Levi-Civita đã làm cho Einstein chú ý đến. Ông cùng với Marcel Grossmann, một người bạn cũ, khảo cứu các phương pháp toán học mới ngõ hầu có thể dùng cho lý thuyết về Trọng Lực.', 'score': 0.6737291}, {'title': 'Albert Einstein và 7 phát minh vĩ đại làm thay đổi thế giới - Dân trí', 'url': 'https://dantri.com.vn/khoa-hoc/albert-einstein-va-7-phat-minh-vi-dai-lam-thay-doi-the-gioi-20211007043421747.htm', 'content': 'Năm 1921, Albert Einstein nhận giải Nobel Vật lý . Do thuyết tương đối hẹp vẫn còn đang là một chủ đề gây tranh cãi, nên hội đồng giải Nobel đã', 'score': 0.50564}]\\n\\natomic fact: Einstein là một nhà vật lý lý thuyết nổi tiếng người Đức.\\n\\nTrả lời theo định dạng sau:\\nLabel: <Nhãn của bạn>\\nReason: <Lý do cho nhãn này>\\n\"}\n",
      "Predicted label: Supported\n",
      "Processing atomic fact: Einstein được biết đến rộng rãi với những đóng góp đột phá trong lĩnh vực vật lý.\n",
      "Label: Supported\n",
      "{'full_response': 'Label: Supported\\nReason: Các nguồn thông tin trong ngữ cảnh cung cấp rất nhiều thông tin xác thực về những đóng góp đột phá của Einstein trong lĩnh vực vật lý. Cụ thể, các tài liệu nhấn mạnh rằng Einstein được coi là một trong những nhà vật lý vĩ đại nhất mọi thời đại, đóng góp quan trọng vào sự phát triển của thuyết tương đối và cơ học lượng tử, công thức E=mc2 nổi tiếng, và giải Nobel Vật lý. Vì vậy, atomic fact về những đóng góp đột phá của Einstein trong vật lý là hoàn toàn chính xác và được hỗ trợ bởi ngữ cảnh.', 'label': 'Supported', 'prompt': \"\\nBạn được cung cấp một ngữ cảnh (kết quả tìm kiếm web) kèm theo một atomic fact. Nhiệm vụ của bạn là gán nhãn cho atomic fact này là Supported, Unsupported, hoặc Irrelevant. Ngữ cảnh nói về một người hoặc một nhân vật và atomic fact là một thông tin về người đó.\\n\\nSupported: Chọn nhãn này nếu atomic fact là đúng và được ngữ cảnh hoàn toàn xác thực.\\nUnsupported: Chọn nhãn này nếu atomic fact là sai và mâu thuẫn với ngữ cảnh.\\nIrrelevant: Chọn nhãn này nếu atomic fact không liên quan đến người hoặc nhân vật, hoặc atomic fact nói về một điều khác không có liên hệ với người đó.\\n\\nLƯU Ý: thông tin tìm kiếm được trên trang web có thể chứa tin giả và tin sai sự thật. Hãy cân nhắc kĩ lưỡng trước khi ra quyết định của mình.\\nĐây là phần bạn cần làm:\\nNhân vật: Albert Einstein\\nNgữ cảnh từ kết quả tìm kiếm web: [{'title': 'Albert Einstein: Từ cậu bé chậm nói trở thành thiên tài vật lý - Dân trí', 'url': 'https://dantri.com.vn/giao-duc/albert-einstein-tu-cau-be-cham-noi-tro-thanh-thien-tai-vat-ly-20230302181024219.htm', 'content': 'Albert Einstein, sinh năm 1879, mất năm 1955, được coi là một trong những nhà vật lý vĩ đại nhất và có ảnh hưởng nhất mọi thời đại. Einstein nổi tiếng với việc phát triển thuyết tương đối tổng quát. Ngoài ra, ông cũng có những đóng góp quan trọng cho việc phát triển lý thuyết cơ học lượng tử.\\\\n\\\\nThuyết tương đối và cơ học lượng tử là hai trụ cột của vật lý hiện đại. Công thức E = mc2 của Einstein, phát sinh từ thuyết tương đối, được mệnh danh là phương trình nổi tiếng nhất thế giới. [...] Trong năm 1905, Albert Einstein viết bốn bài báo mang tính đột phá về hiệu ứng quang điện, chuyển động Brown, thuyết tương đối đặc biệt và sự tương đương giữa khối lượng và năng lượng. Các bài báo đã khiến Albert Einstein trở nên nổi tiếng trong giới hàn lâm. Ông được trao bằng tiến sĩ khi mới 27 tuổi. [...] Image 7: Albert Einstein: Từ cậu bé chậm nói trở thành thiên tài vật lý - 1\\\\n\\\\nNhà vật lý vĩ đại Albert Einstein (Ảnh: Getty Images).\\\\n\\\\nAlbert Einstein nhận giải Nobel vật lý năm 1921 vì những đóng góp của ông cho vật lý lý thuyết và đặc biệt là vì khám phá ra định luật hiệu ứng quang điện, một bước quan trọng trong sự phát triển của thuyết lượng tử.', 'score': 0.8018276}, {'title': 'Albert Einstein và 7 phát minh vĩ đại làm thay đổi thế giới - Dân trí', 'url': 'https://dantri.com.vn/khoa-hoc/albert-einstein-va-7-phat-minh-vi-dai-lam-thay-doi-the-gioi-20211007043421747.htm', 'content': 'Năm 1921, Albert Einstein nhận giải Nobel Vật lý . Do thuyết tương đối hẹp vẫn còn đang là một chủ đề gây tranh cãi, nên hội đồng giải Nobel đã trao giải cho ông vì những giải thích về hiện tượng điện quang và các đóng góp cho vật lý.\\\\n\\\\nMãi đến sau này, người ta mới biết rằng thuyết tương đối của ông có tác động lớn thế nào. Nhờ Einstein, nhận thức về vũ trụ đã thay đổi hoàn toàn, và thậm chí nó đã giúp hình thành nên một thế giới mà chúng ta đang sống ngày nay.', 'score': 0.71137124}, {'title': 'THIÊN TÀI ALBERT EINSTEIN ĐÃ HỌC TOÁN VÀ VẬT LÝ NHƯ ...', 'url': 'https://huynhthuckhangluongvancan.wordpress.com/2024/05/06/thien-tai-albert-einstein-da-hoc-toan-va-vat-ly-nhu-the-nao/', 'content': 'Einstein chưa bao giờ là một người theo chủ nghĩa tuân thủ. Mặc dù tính cách nổi loạn của Einstein có thể đã ảnh hưởng đến sự nghiệp học tập trước đó của anh ấy khi anh ấy đang cật lực tìm việc làm trong lĩnh vực vật lý, nhưng đó cũng có thể là điều đã giúp Einstein có những khám phá vĩ đại nhất và làm nổi bật danh tiếng sau này của ông ta. [...] Với những đóng góp vô cùng giá trị của Einstein cho vật lý học, tôi nghĩ bây giờ rất đáng để hỏi làm thế nào ông ấy học được nó. Đọc cuốn tiểu sử của Einstein, tôi cẩn thận ghi chép bất cứ khi nào phương pháp học tập và khám phá của ông được đề cập. Sau đó, tôi đã cố gắng tổng hợp những quan sát này thành một số phương pháp hoặc hành vi dường như đã tạo điều kiện cho cả những khám phá mang tính cách mạng của Einstein lẫn sự hiểu biết sâu sắc của ông về chủ đề này. [...] Khả năng tập trung tuyệt vời của Einstein, kết hợp với sự tôn trọng sự cô độc, đã cho phép ông thực hiện một số công việc tốt nhất của mình trong lĩnh vực vật lý. Ngay cả khi đã già, ông vẫn dành nhiều giờ trên thuyền, nhàn rỗi đẩy bánh lái dường như đang chìm trong suy nghĩ, bị gián đoạn bởi hàng loạt phương trình viết nguệch ngoạc trong sổ tay.\\\\n\\\\n5. Hiểu ý tưởng thông qua thí nghiệm tưởng tượng.\\\\n\\\\nPhương pháp nổi tiếng nhất của Einstein để học và khám phá vật lý phải là thí nghiệm tưởng tượng.', 'score': 0.6894943}]\\n\\natomic fact: Einstein được biết đến rộng rãi với những đóng góp đột phá trong lĩnh vực vật lý.\\n\\nTrả lời theo định dạng sau:\\nLabel: <Nhãn của bạn>\\nReason: <Lý do cho nhãn này>\\n\"}\n",
      "Predicted label: Supported\n",
      "[True, True]\n"
     ]
    }
   ],
   "source": [
    "# Define model names for easy switching\n",
    "# model_gpt = \"gpt-4o-mini\"\n",
    "# model_gemini = \"gemini-2.0-flash\"\n",
    "model_claude = \"claude-3-haiku-20240307\"\n",
    "\n",
    "# Initialize 3 LLMs (can be any combination)\n",
    "# llm_factory_1 = LLMFactory(model_name=model_gpt, together=False)\n",
    "# llm_factory_2 = LLMFactory(model_name=model_gemini, together=False)\n",
    "llm_factory_3 = LLMFactory(model_name=model_claude, together=False)\n",
    "# llm1 = llm_factory_1.get_llm()\n",
    "# llm = llm_factory_2.get_llm()\n",
    "llm = llm_factory_3.get_llm()\n",
    "\n",
    "predicted_labels = []\n",
    "full_responses = []\n",
    "correct_prediction = []\n",
    "for label, atomic_fact,prompt in zip(labels,atomic_facts,prompts):\n",
    "\tprint(f\"Processing atomic fact: {atomic_fact}\")\n",
    "\tprint(f\"Label: {label}\")\n",
    "\tresult = get_response_from_prompt(prompt,llm)\n",
    "\tprint(result)\n",
    "\tpredicted_labels.append(result['label'])\n",
    "\tprint(f\"Predicted label: {result['label']}\")\n",
    "\tfull_responses.append(result['full_response'])\n",
    "\tif label==result['label']:\n",
    "\t\tcorrect_prediction.append(True)\n",
    "\telse:\n",
    "\t\tcorrect_prediction.append(False)\n",
    "\n",
    "print(correct_prediction)"
   ]
  },
  {
   "cell_type": "code",
   "execution_count": 21,
   "id": "03c2a146",
   "metadata": {},
   "outputs": [
    {
     "name": "stdout",
     "output_type": "stream",
     "text": [
      "Processing black box\n"
     ]
    },
    {
     "name": "stderr",
     "output_type": "stream",
     "text": [
      "Some weights of the model checkpoint at microsoft/deberta-large-mnli were not used when initializing DebertaForSequenceClassification: ['config']\n",
      "- This IS expected if you are initializing DebertaForSequenceClassification from the checkpoint of a model trained on another task or with another architecture (e.g. initializing a BertForSequenceClassification model from a BertForPreTraining model).\n",
      "- This IS NOT expected if you are initializing DebertaForSequenceClassification from the checkpoint of a model that you expect to be exactly identical (initializing a BertForSequenceClassification model from a BertForSequenceClassification model).\n"
     ]
    },
    {
     "name": "stdout",
     "output_type": "stream",
     "text": [
      "Generating responses...\n",
      "Generating candidate responses...\n",
      "Computing confidence scores...\n",
      "Processing LLM as a Judge\n",
      "Generating responses...\n",
      "Generating LLMJudge scores...\n",
      "Generating LLMJudge scores...\n",
      "Generating LLMJudge scores...\n",
      "Generating LLMJudge scores...\n",
      "Generating LLMJudge scores...\n"
     ]
    }
   ],
   "source": [
    "print(\"Processing black box\")\n",
    "bbuq = BlackBoxUQ(llm=llm, scorers=[\"semantic_negentropy\"], use_best=True, max_calls_per_min=5)\n",
    "\n",
    "results_BB = await bbuq.generate_and_score(prompts=prompts, num_responses=5)\n",
    "\n",
    "# LLM as a judge\n",
    "print(\"Processing LLM as a Judge\")\n",
    "panel = LLMPanel(llm=llm, judges=[llm,llm,llm,llm,llm], scoring_templates=['true_false_uncertain','true_false_uncertain','true_false_uncertain','true_false_uncertain','true_false_uncertain'],max_calls_per_min=5)\n",
    "results_judge = await panel.generate_and_score(prompts=prompts)"
   ]
  },
  {
   "cell_type": "code",
   "execution_count": null,
   "id": "020af357",
   "metadata": {},
   "outputs": [
    {
     "data": {
      "text/html": [
       "<div>\n",
       "<style scoped>\n",
       "    .dataframe tbody tr th:only-of-type {\n",
       "        vertical-align: middle;\n",
       "    }\n",
       "\n",
       "    .dataframe tbody tr th {\n",
       "        vertical-align: top;\n",
       "    }\n",
       "\n",
       "    .dataframe thead th {\n",
       "        text-align: right;\n",
       "    }\n",
       "</style>\n",
       "<table border=\"1\" class=\"dataframe\">\n",
       "  <thead>\n",
       "    <tr style=\"text-align: right;\">\n",
       "      <th></th>\n",
       "      <th>response</th>\n",
       "      <th>sampled_responses</th>\n",
       "      <th>prompt</th>\n",
       "      <th>semantic_negentropy</th>\n",
       "    </tr>\n",
       "  </thead>\n",
       "  <tbody>\n",
       "    <tr>\n",
       "      <th>0</th>\n",
       "      <td>Label: Supported\\nReason: Các kết quả tìm kiếm...</td>\n",
       "      <td>[Label: Supported\\nReason: Các kết quả tìm kiế...</td>\n",
       "      <td>\\nBạn được cung cấp một ngữ cảnh (kết quả tìm ...</td>\n",
       "      <td>0.644755</td>\n",
       "    </tr>\n",
       "    <tr>\n",
       "      <th>1</th>\n",
       "      <td>Label: Supported\\nReason: Ngữ cảnh cung cấp th...</td>\n",
       "      <td>[Label: Supported\\nReason: Các đoạn văn bản tr...</td>\n",
       "      <td>\\nBạn được cung cấp một ngữ cảnh (kết quả tìm ...</td>\n",
       "      <td>1.000000</td>\n",
       "    </tr>\n",
       "  </tbody>\n",
       "</table>\n",
       "</div>"
      ],
      "text/plain": [
       "                                            response  \\\n",
       "0  Label: Supported\\nReason: Các kết quả tìm kiếm...   \n",
       "1  Label: Supported\\nReason: Ngữ cảnh cung cấp th...   \n",
       "\n",
       "                                   sampled_responses  \\\n",
       "0  [Label: Supported\\nReason: Các kết quả tìm kiế...   \n",
       "1  [Label: Supported\\nReason: Các đoạn văn bản tr...   \n",
       "\n",
       "                                              prompt  semantic_negentropy  \n",
       "0  \\nBạn được cung cấp một ngữ cảnh (kết quả tìm ...             0.644755  \n",
       "1  \\nBạn được cung cấp một ngữ cảnh (kết quả tìm ...             1.000000  "
      ]
     },
     "execution_count": 20,
     "metadata": {},
     "output_type": "execute_result"
    }
   ],
   "source": [
    "results_BB.to_df()"
   ]
  },
  {
   "cell_type": "code",
   "execution_count": null,
   "id": "e694e5b2",
   "metadata": {},
   "outputs": [
    {
     "data": {
      "text/html": [
       "<div>\n",
       "<style scoped>\n",
       "    .dataframe tbody tr th:only-of-type {\n",
       "        vertical-align: middle;\n",
       "    }\n",
       "\n",
       "    .dataframe tbody tr th {\n",
       "        vertical-align: top;\n",
       "    }\n",
       "\n",
       "    .dataframe thead th {\n",
       "        text-align: right;\n",
       "    }\n",
       "</style>\n",
       "<table border=\"1\" class=\"dataframe\">\n",
       "  <thead>\n",
       "    <tr style=\"text-align: right;\">\n",
       "      <th></th>\n",
       "      <th>prompt</th>\n",
       "      <th>response</th>\n",
       "      <th>judge_1</th>\n",
       "      <th>judge_2</th>\n",
       "      <th>judge_3</th>\n",
       "      <th>judge_4</th>\n",
       "      <th>judge_5</th>\n",
       "      <th>avg</th>\n",
       "      <th>max</th>\n",
       "      <th>min</th>\n",
       "      <th>median</th>\n",
       "    </tr>\n",
       "  </thead>\n",
       "  <tbody>\n",
       "    <tr>\n",
       "      <th>0</th>\n",
       "      <td>\\nBạn được cung cấp một ngữ cảnh (kết quả tìm ...</td>\n",
       "      <td>Label: Supported\\nReason: Ngữ cảnh cung cấp th...</td>\n",
       "      <td>1.0</td>\n",
       "      <td>1.0</td>\n",
       "      <td>1.0</td>\n",
       "      <td>1.0</td>\n",
       "      <td>1.0</td>\n",
       "      <td>1.0</td>\n",
       "      <td>1.0</td>\n",
       "      <td>1.0</td>\n",
       "      <td>1.0</td>\n",
       "    </tr>\n",
       "    <tr>\n",
       "      <th>1</th>\n",
       "      <td>\\nBạn được cung cấp một ngữ cảnh (kết quả tìm ...</td>\n",
       "      <td>Label: Supported\\nReason: Các đoạn văn bản tro...</td>\n",
       "      <td>1.0</td>\n",
       "      <td>1.0</td>\n",
       "      <td>1.0</td>\n",
       "      <td>1.0</td>\n",
       "      <td>1.0</td>\n",
       "      <td>1.0</td>\n",
       "      <td>1.0</td>\n",
       "      <td>1.0</td>\n",
       "      <td>1.0</td>\n",
       "    </tr>\n",
       "  </tbody>\n",
       "</table>\n",
       "</div>"
      ],
      "text/plain": [
       "                                              prompt  \\\n",
       "0  \\nBạn được cung cấp một ngữ cảnh (kết quả tìm ...   \n",
       "1  \\nBạn được cung cấp một ngữ cảnh (kết quả tìm ...   \n",
       "\n",
       "                                            response  judge_1  judge_2  \\\n",
       "0  Label: Supported\\nReason: Ngữ cảnh cung cấp th...      1.0      1.0   \n",
       "1  Label: Supported\\nReason: Các đoạn văn bản tro...      1.0      1.0   \n",
       "\n",
       "   judge_3  judge_4  judge_5  avg  max  min  median  \n",
       "0      1.0      1.0      1.0  1.0  1.0  1.0     1.0  \n",
       "1      1.0      1.0      1.0  1.0  1.0  1.0     1.0  "
      ]
     },
     "execution_count": 21,
     "metadata": {},
     "output_type": "execute_result"
    }
   ],
   "source": [
    "results_judge.to_df()"
   ]
  },
  {
   "cell_type": "code",
   "execution_count": null,
   "id": "1eafcadb",
   "metadata": {},
   "outputs": [],
   "source": [
    "result_BB = results_BB.to_df()\n",
    "result_judge = results_judge.to_df()\n",
    "result =((result_judge['avg'] + result_BB['semantic_negentropy'])/2)>= 0.80"
   ]
  },
  {
   "cell_type": "code",
   "execution_count": null,
   "id": "86cadaf1",
   "metadata": {},
   "outputs": [
    {
     "name": "stdout",
     "output_type": "stream",
     "text": [
      "[True, True]\n",
      "[True, True]\n"
     ]
    }
   ],
   "source": [
    "# result = results.to_df()\n",
    "# result['ensemble_score'] = result['ensemble_score'] >= 0.90\n",
    "confidence_list = result.tolist()\n",
    "for i in range(len(confidence_list)):\n",
    "\tif confidence_list[i]==True and correct_prediction[i]==False:\n",
    "\t\tprint(\"Wrong atomic fact:\", atomic_facts[i])\n",
    "\n",
    "print(confidence_list)\n",
    "print(correct_prediction)"
   ]
  },
  {
   "cell_type": "code",
   "execution_count": null,
   "id": "685063dd",
   "metadata": {},
   "outputs": [
    {
     "name": "stdout",
     "output_type": "stream",
     "text": [
      "Check 0\n",
      "Total 2\n"
     ]
    }
   ],
   "source": [
    "count = 0\n",
    "for v in confidence_list:\n",
    "\tif v == False:\n",
    "\t\tcount+=1\n",
    "print(\"Check\",count)\n",
    "print(\"Total\", len(confidence_list))"
   ]
  }
 ],
 "metadata": {
  "kernelspec": {
   "display_name": "aitutor",
   "language": "python",
   "name": "python3"
  },
  "language_info": {
   "codemirror_mode": {
    "name": "ipython",
    "version": 3
   },
   "file_extension": ".py",
   "mimetype": "text/x-python",
   "name": "python",
   "nbconvert_exporter": "python",
   "pygments_lexer": "ipython3",
   "version": "3.10.16"
  }
 },
 "nbformat": 4,
 "nbformat_minor": 5
}
